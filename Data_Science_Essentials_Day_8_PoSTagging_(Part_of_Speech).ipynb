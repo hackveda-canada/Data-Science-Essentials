{
  "nbformat": 4,
  "nbformat_minor": 0,
  "metadata": {
    "colab": {
      "name": "Data Science Essentials Day 8: PoSTagging (Part of Speech).ipynb",
      "version": "0.3.2",
      "provenance": [],
      "collapsed_sections": [],
      "include_colab_link": true
    },
    "kernelspec": {
      "name": "python3",
      "display_name": "Python 3"
    }
  },
  "cells": [
    {
      "cell_type": "markdown",
      "metadata": {
        "id": "view-in-github",
        "colab_type": "text"
      },
      "source": [
        "<a href=\"https://colab.research.google.com/github/hackveda-canada/Data-Science-Essentials/blob/master/Data_Science_Essentials_Day_8_PoSTagging_(Part_of_Speech).ipynb\" target=\"_parent\"><img src=\"https://colab.research.google.com/assets/colab-badge.svg\" alt=\"Open In Colab\"/></a>"
      ]
    },
    {
      "metadata": {
        "id": "oCgN3plAtQG2",
        "colab_type": "code",
        "colab": {
          "base_uri": "https://localhost:8080/",
          "height": 390
        },
        "outputId": "95558b12-3875-4835-ed0b-0358f26a43f6"
      },
      "cell_type": "code",
      "source": [
        "# Part of Speech Tagging (POS Tagging)\n",
        "# https://repository.upenn.edu/cgi/viewcontent.cgi?article=1039&context=ircs_reports\n",
        "\n",
        "text = \"the little yellow dog barked at the cat\"\n",
        "\n",
        "#text is S or sentence and all words are tokens\n",
        "#each word token will be having a tag and computer will understand tags\n",
        "#PoS Tree \n",
        "# http://www.nltk.org/book_1ed/ch07.html\n",
        "#http://www.surdeanu.info/mihai/teaching/ista555-fall13/readings/PennTreebankTagset.html\n",
        "\n",
        "#Default Part of Speech Tagger is maxent_treebank_pos_tagger\n",
        "#Uses Pennysalvania University Treebank PoS Tagging\n",
        "\n",
        "\n",
        "#Total number of PoS Tags=36 and Each sentence is represented\n",
        "#by a Noun Phrase (NP), Verbal Phrase(VP), Full Stop(.)\n",
        "\n",
        "# http://www.nltk.org/book_1ed/ch07.html\n",
        "#raw text(string) --> sentence segmanetation -->tokenization (remove noise) --> part of speech tagging\n",
        "\n",
        "\n",
        "import nltk\n",
        "from nltk import word_tokenize\n",
        "\n",
        "nltk.download(\"punkt\")\n",
        "nltk.download('averaged_perceptron_tagger')\n",
        "nltk.download('maxent_ne_chunker')\n",
        "nltk.download('words')\n",
        "nltk.download('tagsets')\n",
        "# Devide the complete sentence into chunks\n",
        "\n",
        "# create tokens out of the sentance\n",
        "tokens = word_tokenize(text)\n",
        "\n",
        "\n",
        "# Tag each word token\n",
        "\n",
        "nltk.pos_tag(tokens)"
      ],
      "execution_count": 7,
      "outputs": [
        {
          "output_type": "stream",
          "text": [
            "[nltk_data] Downloading package punkt to /root/nltk_data...\n",
            "[nltk_data]   Package punkt is already up-to-date!\n",
            "[nltk_data] Downloading package averaged_perceptron_tagger to\n",
            "[nltk_data]     /root/nltk_data...\n",
            "[nltk_data]   Package averaged_perceptron_tagger is already up-to-\n",
            "[nltk_data]       date!\n",
            "[nltk_data] Downloading package maxent_ne_chunker to\n",
            "[nltk_data]     /root/nltk_data...\n",
            "[nltk_data]   Unzipping chunkers/maxent_ne_chunker.zip.\n",
            "[nltk_data] Downloading package words to /root/nltk_data...\n",
            "[nltk_data]   Unzipping corpora/words.zip.\n",
            "[nltk_data] Downloading package tagsets to /root/nltk_data...\n",
            "[nltk_data]   Unzipping help/tagsets.zip.\n"
          ],
          "name": "stdout"
        },
        {
          "output_type": "execute_result",
          "data": {
            "text/plain": [
              "[('the', 'DT'),\n",
              " ('little', 'JJ'),\n",
              " ('yellow', 'JJ'),\n",
              " ('dog', 'NN'),\n",
              " ('barked', 'VBD'),\n",
              " ('at', 'IN'),\n",
              " ('the', 'DT'),\n",
              " ('cat', 'NN')]"
            ]
          },
          "metadata": {
            "tags": []
          },
          "execution_count": 7
        }
      ]
    }
  ]
}