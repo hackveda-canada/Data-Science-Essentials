{
  "nbformat": 4,
  "nbformat_minor": 0,
  "metadata": {
    "colab": {
      "name": "Data Science Essentials Day 11: N-grams.ipynb",
      "version": "0.3.2",
      "provenance": [],
      "include_colab_link": true
    },
    "kernelspec": {
      "name": "python3",
      "display_name": "Python 3"
    }
  },
  "cells": [
    {
      "cell_type": "markdown",
      "metadata": {
        "id": "view-in-github",
        "colab_type": "text"
      },
      "source": [
        "<a href=\"https://colab.research.google.com/github/hackveda-canada/Data-Science-Essentials/blob/master/Data_Science_Essentials_Day_11_N_grams.ipynb\" target=\"_parent\"><img src=\"https://colab.research.google.com/assets/colab-badge.svg\" alt=\"Open In Colab\"/></a>"
      ]
    },
    {
      "metadata": {
        "id": "C8WUpX_ZrQdu",
        "colab_type": "code",
        "colab": {}
      },
      "cell_type": "code",
      "source": [
        ""
      ],
      "execution_count": 0,
      "outputs": []
    },
    {
      "metadata": {
        "id": "YSgQNAc7rZqW",
        "colab_type": "text"
      },
      "cell_type": "markdown",
      "source": [
        "**N-GRAMS**\n",
        "----------------\n",
        "\n",
        "\n",
        "an n-gram is continous sequence of n items from a given sample of text or speech.\n",
        "\n",
        "We will be using nltk Python library, and collections library to use Counter function"
      ]
    },
    {
      "metadata": {
        "id": "ShLNQcgRsNVo",
        "colab_type": "code",
        "colab": {
          "base_uri": "https://localhost:8080/",
          "height": 194
        },
        "outputId": "2fc842f3-7db3-4f9e-af9b-9ca7ec5dd623"
      },
      "cell_type": "code",
      "source": [
        "# Concepts of N-grams in Text Analytics\n",
        "from nltk.util import ngrams\n",
        "from collections import Counter\n",
        "\n",
        "text = \"Welcome to Machine Learning\"\n",
        "\n",
        "import nltk\n",
        "nltk.download(\"punkt\")\n",
        "from nltk import word_tokenize\n",
        "\n",
        "def get_ngrams(text, n):\n",
        "  tokens = word_tokenize(text)\n",
        "  print(tokens)\n",
        "  n_grams = ngrams(tokens, n)\n",
        "  return [\" \".join(gram) for gram in n_grams]\n",
        "  \n",
        " \n",
        "  \n",
        "  \n",
        "print(\"Unigram (n=1)\",get_ngrams(text, 1))\n",
        "print(\"Bigram (n=2)\",get_ngrams(text, 2))\n",
        "print(\"Trigram (n=3)\",get_ngrams(text, 3))\n",
        "print(\"Quadgram (n=4)\",get_ngrams(text, 4))\n"
      ],
      "execution_count": 11,
      "outputs": [
        {
          "output_type": "stream",
          "text": [
            "[nltk_data] Downloading package punkt to /root/nltk_data...\n",
            "[nltk_data]   Package punkt is already up-to-date!\n",
            "['Welcome', 'to', 'Machine', 'Learning']\n",
            "Unigram (n=1) ['Welcome', 'to', 'Machine', 'Learning']\n",
            "['Welcome', 'to', 'Machine', 'Learning']\n",
            "Bigram (n=2) ['Welcome to', 'to Machine', 'Machine Learning']\n",
            "['Welcome', 'to', 'Machine', 'Learning']\n",
            "Trigram (n=3) ['Welcome to Machine', 'to Machine Learning']\n",
            "['Welcome', 'to', 'Machine', 'Learning']\n",
            "Quadgram (n=4) ['Welcome to Machine Learning']\n"
          ],
          "name": "stdout"
        }
      ]
    }
  ]
}