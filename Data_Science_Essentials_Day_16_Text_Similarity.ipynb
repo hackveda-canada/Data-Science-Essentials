{
  "nbformat": 4,
  "nbformat_minor": 0,
  "metadata": {
    "colab": {
      "name": "Data Science Essentials Day 16: Text Similarity.ipynb",
      "version": "0.3.2",
      "provenance": [],
      "collapsed_sections": [],
      "include_colab_link": true
    },
    "kernelspec": {
      "name": "python3",
      "display_name": "Python 3"
    }
  },
  "cells": [
    {
      "cell_type": "markdown",
      "metadata": {
        "id": "view-in-github",
        "colab_type": "text"
      },
      "source": [
        "<a href=\"https://colab.research.google.com/github/hackveda-canada/Data-Science-Essentials/blob/master/Data_Science_Essentials_Day_16_Text_Similarity.ipynb\" target=\"_parent\"><img src=\"https://colab.research.google.com/assets/colab-badge.svg\" alt=\"Open In Colab\"/></a>"
      ]
    },
    {
      "metadata": {
        "id": "Z2vl5lGa4nIM",
        "colab_type": "code",
        "colab": {
          "base_uri": "https://localhost:8080/",
          "height": 70
        },
        "outputId": "fa24dd70-0501-4b17-951b-38bb86607777"
      },
      "cell_type": "code",
      "source": [
        "# Model Building for Unsupervised Learning\n",
        "# Text Similarity using Distance Measurement\n",
        "\n",
        "import pandas as pd\n",
        "#read_excel(\"http://www.hackveda.in/table.xls\")\n",
        "\n",
        "dict1 = {'documents':['doc1', 'doc2', 'doc3'], 'accident':[2,3,7], 'new york':[8,7,3]}\n",
        "dict1"
      ],
      "execution_count": 21,
      "outputs": [
        {
          "output_type": "execute_result",
          "data": {
            "text/plain": [
              "{'accident': [2, 3, 7],\n",
              " 'documents': ['doc1', 'doc2', 'doc3'],\n",
              " 'new york': [8, 7, 3]}"
            ]
          },
          "metadata": {
            "tags": []
          },
          "execution_count": 21
        }
      ]
    },
    {
      "metadata": {
        "id": "E7qu1qekJ8n8",
        "colab_type": "code",
        "colab": {
          "base_uri": "https://localhost:8080/",
          "height": 137
        },
        "outputId": "97c1a0c6-f773-4c51-b2c1-754224e1748b"
      },
      "cell_type": "code",
      "source": [
        "df = pd.DataFrame(dict1)\n",
        "df"
      ],
      "execution_count": 22,
      "outputs": [
        {
          "output_type": "execute_result",
          "data": {
            "text/html": [
              "<div>\n",
              "<style scoped>\n",
              "    .dataframe tbody tr th:only-of-type {\n",
              "        vertical-align: middle;\n",
              "    }\n",
              "\n",
              "    .dataframe tbody tr th {\n",
              "        vertical-align: top;\n",
              "    }\n",
              "\n",
              "    .dataframe thead th {\n",
              "        text-align: right;\n",
              "    }\n",
              "</style>\n",
              "<table border=\"1\" class=\"dataframe\">\n",
              "  <thead>\n",
              "    <tr style=\"text-align: right;\">\n",
              "      <th></th>\n",
              "      <th>accident</th>\n",
              "      <th>documents</th>\n",
              "      <th>new york</th>\n",
              "    </tr>\n",
              "  </thead>\n",
              "  <tbody>\n",
              "    <tr>\n",
              "      <th>0</th>\n",
              "      <td>2</td>\n",
              "      <td>doc1</td>\n",
              "      <td>8</td>\n",
              "    </tr>\n",
              "    <tr>\n",
              "      <th>1</th>\n",
              "      <td>3</td>\n",
              "      <td>doc2</td>\n",
              "      <td>7</td>\n",
              "    </tr>\n",
              "    <tr>\n",
              "      <th>2</th>\n",
              "      <td>7</td>\n",
              "      <td>doc3</td>\n",
              "      <td>3</td>\n",
              "    </tr>\n",
              "  </tbody>\n",
              "</table>\n",
              "</div>"
            ],
            "text/plain": [
              "   accident documents  new york\n",
              "0         2      doc1         8\n",
              "1         3      doc2         7\n",
              "2         7      doc3         3"
            ]
          },
          "metadata": {
            "tags": []
          },
          "execution_count": 22
        }
      ]
    },
    {
      "metadata": {
        "id": "V2XLMMej9gdS",
        "colab_type": "code",
        "colab": {
          "base_uri": "https://localhost:8080/",
          "height": 52
        },
        "outputId": "f14b9b0b-c687-4b5f-b562-a4b1a378370c"
      },
      "cell_type": "code",
      "source": [
        "# Calculate cosine similarity for doc1 and doc2\n",
        "#https://en.wikipedia.org/wiki/Cosine_similarity\n",
        "\n",
        "# ((a_doc1 * a_doc2) + (ny_doc1 * ny_doc2)) / np.sqrt(((a_doc1)^2 + (ny_doc1)^2) * (a_doc2)^2 + (ny_doc2)^2))\n",
        "\n",
        "\n",
        "dividend = (2 * 3) + (8 * 7)\n",
        "divisor = np.sqrt(np.square(2) + np.square(8)) * np.sqrt(np.square(3) + np.square(7))\n",
        "cosine_similarity = dividend/divisor\n",
        "print(\"Cosine Similarity between doc1 and doc2 is = \", cosine_similarity)\n",
        "\n",
        "\n",
        "\n",
        "# Calculate cosine similarity for doc2 and doc3\n",
        "\n",
        "dividend = (3 * 7) + (7 * 3)\n",
        "divisor = np.sqrt(np.square(3) + np.square(7)) * np.sqrt(np.square(7) + np.square(3))\n",
        "cos_sim_d2_d3 = dividend/divisor\n",
        "print(\"Cosine Similarity between doc2 and doc3 is = \", cos_sim_d2_d3)\n",
        "\n"
      ],
      "execution_count": 18,
      "outputs": [
        {
          "output_type": "stream",
          "text": [
            "Cosine Similarity between doc1 and doc2 is =  0.9872411207126471\n",
            "Cosine Similarity between doc2 and doc3 is =  0.7241379310344827\n"
          ],
          "name": "stdout"
        }
      ]
    },
    {
      "metadata": {
        "id": "cPiGtKZJ9g9q",
        "colab_type": "code",
        "colab": {
          "base_uri": "https://localhost:8080/",
          "height": 34
        },
        "outputId": "33d89f3d-3ea2-4469-e50f-df0b2b018dbd"
      },
      "cell_type": "code",
      "source": [
        "# Calculate the similarity of document 1 and document 2\n",
        "\n",
        "dist_d1_d2 = 0\n",
        "\n",
        "# accident = sqrt((accident count in Doc 2 - accident count in Doc 1) ^ 2 + (new york count in doc2 - new york count in doc 1)^2)\n",
        "# np.sqrt(1+1)\n",
        "import numpy as np\n",
        "euclidean_dist_d1_d2 = np.sqrt(np.square(3-2) + np.square(7-8))\n",
        "print(\"Euclidean distance of accident between document 1 and document 2 is =\", euclidean_dist_d1_d2)\n"
      ],
      "execution_count": 8,
      "outputs": [
        {
          "output_type": "stream",
          "text": [
            "Euclidean distance of accident between document 1 and document 2 is = 1.4142135623730951\n"
          ],
          "name": "stdout"
        }
      ]
    },
    {
      "metadata": {
        "id": "0IKklj_fAUeN",
        "colab_type": "code",
        "colab": {
          "base_uri": "https://localhost:8080/",
          "height": 34
        },
        "outputId": "79fd6335-807c-47bd-b048-4a01014fcd7b"
      },
      "cell_type": "code",
      "source": [
        "#Calculate the similarity of document 1 and document 2\n",
        "\n",
        "euclidean_dist_d2_d3 = 0\n",
        "euclidean_dist_d2_d3 = np.sqrt(np.square(7 - 3) + np.square(3 - 7))\n",
        "print(\"Euclidean distance of accident between document 2 and document 3 is =\", euclidean_dist_d2_d3)\n"
      ],
      "execution_count": 15,
      "outputs": [
        {
          "output_type": "stream",
          "text": [
            "Euclidean distance of accident between document 2 and document 3 is = 5.656854249492381\n"
          ],
          "name": "stdout"
        }
      ]
    }
  ]
}