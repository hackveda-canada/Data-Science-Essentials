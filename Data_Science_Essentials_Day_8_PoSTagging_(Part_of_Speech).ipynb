{
  "nbformat": 4,
  "nbformat_minor": 0,
  "metadata": {
    "colab": {
      "name": "Data Science Essentials Day 8: PoSTagging (Part of Speech).ipynb",
      "version": "0.3.2",
      "provenance": [],
      "collapsed_sections": [],
      "include_colab_link": true
    },
    "kernelspec": {
      "name": "python3",
      "display_name": "Python 3"
    }
  },
  "cells": [
    {
      "cell_type": "markdown",
      "metadata": {
        "id": "view-in-github",
        "colab_type": "text"
      },
      "source": [
        "<a href=\"https://colab.research.google.com/github/hackveda-canada/Data-Science-Essentials/blob/master/Data_Science_Essentials_Day_8_PoSTagging_(Part_of_Speech).ipynb\" target=\"_parent\"><img src=\"https://colab.research.google.com/assets/colab-badge.svg\" alt=\"Open In Colab\"/></a>"
      ]
    },
    {
      "metadata": {
        "id": "oCgN3plAtQG2",
        "colab_type": "code",
        "colab": {
          "base_uri": "https://localhost:8080/",
          "height": 285
        },
        "outputId": "8bf86635-c9a9-4e59-ccba-c6b06d4dc283"
      },
      "cell_type": "code",
      "source": [
        "# Part of Speech Tagging (POS Tagging)\n",
        "# https://repository.upenn.edu/cgi/viewcontent.cgi?article=1039&context=ircs_reports\n",
        "\n",
        "text = \"the little yellow dog barked at the cat\"\n",
        "\n",
        "#text is S or sentence and all words are tokens\n",
        "#each word token will be having a tag and computer will understand tags\n",
        "\n",
        "\n",
        "#PoS Tree \n",
        "# http://www.nltk.org/book_1ed/ch07.html\n",
        "\n",
        "\n",
        "#to get full details of Tags\n",
        "#http://www.surdeanu.info/mihai/teaching/ista555-fall13/readings/PennTreebankTagset.html\n",
        "\n",
        "#Default Part of Speech Tagger is maxent_treebank_pos_tagger\n",
        "#Uses Pennysalvania University Treebank PoS Tagging\n",
        "\n",
        "\n",
        "#Total number of PoS Tags=36 and Each sentence is represented\n",
        "#by a Noun Phrase (NP), Verbal Phrase(VP), Full Stop(.)\n",
        "\n",
        "# http://www.nltk.org/book_1ed/ch07.html\n",
        "#raw text(string) --> sentence segmanetation -->tokenization (remove noise) --> part of speech tagging\n",
        "\n",
        "\n",
        "import nltk\n",
        "from nltk import word_tokenize\n",
        "\n",
        "nltk.download(\"punkt\")\n",
        "nltk.download('averaged_perceptron_tagger')\n",
        "nltk.download('maxent_ne_chunker')\n",
        "nltk.download('words')\n",
        "nltk.download('tagsets')\n",
        "# Devide the complete sentence into chunks\n",
        "\n",
        "# create tokens out of the sentance\n",
        "tokens = word_tokenize(text)\n",
        "\n",
        "\n",
        "# Tag each word token\n",
        "\n",
        "tags = nltk.pos_tag(tokens)\n",
        "\n",
        "\n",
        "#Perform chunking\n",
        "\n",
        "#refer to http://www.nltk.org/book_1ed/ch07.html , chunking section\n",
        "from nltk import chunk\n",
        "\n",
        "# Idenitfy the chunks from tags\n",
        "chunk.ne_chunk(tags)\n",
        "\n",
        "print(tags)\n",
        "\n",
        "\n",
        "# no display name and no $DISPLAY environment variable error will be in colab only, but may use Anaconda.\n",
        "# so we can't display tree due to above error\n",
        "\n",
        "#https://stackoverflow.com/questions/36942270/nltk-was-unable-to-find-the-gs-file\n",
        "\n",
        "#for MAC:\n",
        "#!brew install ghostscript\n",
        "#sudo chown -R $(whoami) /usr/local/share/info /usr/local/share/man/man5;\n",
        "\n",
        "#for Linux:\n",
        "#!sudo apt-get install ghostscript\n",
        "\n",
        "#For Windows:\n",
        "# http://www.ghostscript.com/download/\n",
        "#properties --> check path and add to environment variable\n",
        "\n",
        "#Rerun again\n",
        "\n",
        "\n",
        "\n",
        "\n",
        "\n",
        "\n",
        "\n"
      ],
      "execution_count": 39,
      "outputs": [
        {
          "output_type": "stream",
          "text": [
            "[nltk_data] Downloading package punkt to /root/nltk_data...\n",
            "[nltk_data]   Package punkt is already up-to-date!\n",
            "[nltk_data] Downloading package averaged_perceptron_tagger to\n",
            "[nltk_data]     /root/nltk_data...\n",
            "[nltk_data]   Package averaged_perceptron_tagger is already up-to-\n",
            "[nltk_data]       date!\n",
            "[nltk_data] Downloading package maxent_ne_chunker to\n",
            "[nltk_data]     /root/nltk_data...\n",
            "[nltk_data]   Package maxent_ne_chunker is already up-to-date!\n",
            "[nltk_data] Downloading package words to /root/nltk_data...\n",
            "[nltk_data]   Package words is already up-to-date!\n",
            "[nltk_data] Downloading package tagsets to /root/nltk_data...\n",
            "[nltk_data]   Package tagsets is already up-to-date!\n",
            "[('the', 'DT'), ('little', 'JJ'), ('yellow', 'JJ'), ('dog', 'NN'), ('barked', 'VBD'), ('at', 'IN'), ('the', 'DT'), ('cat', 'NN')]\n"
          ],
          "name": "stdout"
        }
      ]
    },
    {
      "metadata": {
        "id": "zpaZ_Azi9LD_",
        "colab_type": "code",
        "colab": {
          "base_uri": "https://localhost:8080/",
          "height": 158
        },
        "outputId": "f8235e47-b84c-427f-96c6-0ed15bccf309"
      },
      "cell_type": "code",
      "source": [
        "# Use PerceptronTagger for PoS Tagging\n",
        "from nltk.tag.perceptron import PerceptronTagger\n",
        "PerceptronTagger()\n",
        "pt = PerceptronTagger()\n",
        "pt.tag(tokens)"
      ],
      "execution_count": 40,
      "outputs": [
        {
          "output_type": "execute_result",
          "data": {
            "text/plain": [
              "[('the', 'DT'),\n",
              " ('little', 'JJ'),\n",
              " ('yellow', 'JJ'),\n",
              " ('dog', 'NN'),\n",
              " ('barked', 'VBD'),\n",
              " ('at', 'IN'),\n",
              " ('the', 'DT'),\n",
              " ('cat', 'NN')]"
            ]
          },
          "metadata": {
            "tags": []
          },
          "execution_count": 40
        }
      ]
    },
    {
      "metadata": {
        "id": "zgC5gZnw-ODs",
        "colab_type": "code",
        "colab": {
          "base_uri": "https://localhost:8080/",
          "height": 283
        },
        "outputId": "7c752c79-0567-4bef-b053-39a4ddeedd2c"
      },
      "cell_type": "code",
      "source": [
        "nltk.help.upenn_tagset(\"DT\")\n",
        "nltk.help.upenn_tagset(\"NN\")\n",
        "nltk.help.upenn_tagset(\"VBD\")\n",
        "nltk.help.upenn_tagset(\"IN\")"
      ],
      "execution_count": 41,
      "outputs": [
        {
          "output_type": "stream",
          "text": [
            "DT: determiner\n",
            "    all an another any both del each either every half la many much nary\n",
            "    neither no some such that the them these this those\n",
            "NN: noun, common, singular or mass\n",
            "    common-carrier cabbage knuckle-duster Casino afghan shed thermostat\n",
            "    investment slide humour falloff slick wind hyena override subhumanity\n",
            "    machinist ...\n",
            "VBD: verb, past tense\n",
            "    dipped pleaded swiped regummed soaked tidied convened halted registered\n",
            "    cushioned exacted snubbed strode aimed adopted belied figgered\n",
            "    speculated wore appreciated contemplated ...\n",
            "IN: preposition or conjunction, subordinating\n",
            "    astride among uppon whether out inside pro despite on by throughout\n",
            "    below within for towards near behind atop around if like until below\n",
            "    next into if beside ...\n"
          ],
          "name": "stdout"
        }
      ]
    }
  ]
}