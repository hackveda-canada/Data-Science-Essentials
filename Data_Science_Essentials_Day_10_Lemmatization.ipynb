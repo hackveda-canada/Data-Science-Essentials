{
  "nbformat": 4,
  "nbformat_minor": 0,
  "metadata": {
    "colab": {
      "name": "Data Science Essentials Day 10: Lemmatization.ipynb",
      "version": "0.3.2",
      "provenance": [],
      "collapsed_sections": [],
      "include_colab_link": true
    },
    "kernelspec": {
      "name": "python3",
      "display_name": "Python 3"
    }
  },
  "cells": [
    {
      "cell_type": "markdown",
      "metadata": {
        "id": "view-in-github",
        "colab_type": "text"
      },
      "source": [
        "<a href=\"https://colab.research.google.com/github/hackveda-canada/Data-Science-Essentials/blob/master/Data_Science_Essentials_Day_10_Lemmatization.ipynb\" target=\"_parent\"><img src=\"https://colab.research.google.com/assets/colab-badge.svg\" alt=\"Open In Colab\"/></a>"
      ]
    },
    {
      "metadata": {
        "id": "kKcQEGa3eEkd",
        "colab_type": "text"
      },
      "cell_type": "markdown",
      "source": [
        "**Lemmatisation**\n",
        "---------------------\n",
        "\n",
        "\n",
        "https://en.wikipedia.org/wiki/Lemmatisation\n",
        "\n",
        "Lemmatisation is closely related to stemming. The difference is that a stemmer operates on a single word without knowledge of the context, and therefore cannot discriminate between words which have different meanings depending on part of speech. However, stemmers are typically easier to implement and run faster. The reduced \"accuracy\" may not matter for some applications. In fact, when used within information retrieval systems, stemming improves query recall accuracy, or true positive rate, when compared to lemmatisation. Nonetheless, stemming reduces precision, or true negative rate, for such systems.[5]\n",
        "\n",
        "For instance:\n",
        "\n",
        "The word \"better\" has \"good\" as its lemma. This link is missed by stemming, as it requires a dictionary look-up. The word \"walk\" is the base form for word \"walking\", and hence this is matched in both stemming and lemmatisation. The word \"meeting\" can be either the base form of a noun or a form of a verb (\"to meet\") depending on the context; e.g., \"in our last meeting\" or \"We are meeting again tomorrow\". Unlike stemming, lemmatisation attempts to select the correct lemma depending on the context.\n",
        "\n",
        "Process of transforming dictionary\n"
      ]
    },
    {
      "metadata": {
        "id": "2FZX6ykvX9Dd",
        "colab_type": "code",
        "colab": {
          "base_uri": "https://localhost:8080/",
          "height": 70
        },
        "outputId": "51bbb7d3-5efc-4adc-aaf4-13592f9175ae"
      },
      "cell_type": "code",
      "source": [
        "#Lemmatization : Identify the root word using semantics / meanings\n",
        "#Dictionary : Given a wordform with affixed ending -> root word in dictionary\n",
        "#Dictionary (lexical database) = WordNet (Words & Synonyms)\n",
        "\n",
        "#Lemmatisation : Identify the root word depending on the meeting\n",
        "#using disctionary base\n",
        "#Dicitionary: WordNet consist of 155,287 words and 117,000 synonyms\n",
        "# https://wordnet.princeton.edu/\n",
        "\n",
        "#Import WordNetLemmatizer\n",
        "\n",
        "import nltk\n",
        "from nltk.stem import WordNetLemmatizer\n",
        "wordnet_lemmatizer = WordNetLemmatizer()\n",
        "\n",
        "\n",
        "\n",
        "#1. Find Part of Speech\n",
        "#2. Find Lemmatize word\n",
        "\n",
        "#Objective :Provide some keywrds and extarct lemmatized words\n",
        "\n",
        "text = \"caring cares cared caringly carefully\"\n",
        "\n",
        "#Example of implementation of lemmatized word\n",
        "nltk.download('wordnet')\n",
        "wordnet_lemmatizer.lemmatize(\"better\",pos=\"a\")\n",
        "\n",
        "\n",
        "# Adj = a\n",
        "# Adverbs = \"r\"\n",
        "# Noun = \"n\"\n",
        "# Verb = \"v\""
      ],
      "execution_count": 1,
      "outputs": [
        {
          "output_type": "stream",
          "text": [
            "[nltk_data] Downloading package wordnet to /root/nltk_data...\n",
            "[nltk_data]   Unzipping corpora/wordnet.zip.\n"
          ],
          "name": "stdout"
        },
        {
          "output_type": "execute_result",
          "data": {
            "text/plain": [
              "'good'"
            ]
          },
          "metadata": {
            "tags": []
          },
          "execution_count": 1
        }
      ]
    },
    {
      "metadata": {
        "id": "BdBB1VMWek3f",
        "colab_type": "code",
        "colab": {
          "base_uri": "https://localhost:8080/",
          "height": 141
        },
        "outputId": "c5d27fb2-b7c4-4d55-a4bd-0fe4f99ff0b7"
      },
      "cell_type": "code",
      "source": [
        "#https://www.machinelearningplus.com/nlp/lemmatization-examples-python/\n",
        "\n",
        "nltk.download('punkt')\n",
        "nltk.download('averaged_perceptron_tagger')\n",
        "\n",
        "# Define the sentence to be lemmatized\n",
        "sentence = \"The striped bats are hanging on their feet for best\"\n",
        "\n",
        "# Tokenize: Split the sentence into words\n",
        "word_list = nltk.word_tokenize(sentence)\n",
        "print(word_list)\n",
        "#> ['The', 'striped', 'bats', 'are', 'hanging', 'on', 'their', 'feet', 'for', 'best']\n",
        "\n",
        "# Lemmatize list of words and join\n",
        "lemmatized_output = ' '.join([wordnet_lemmatizer.lemmatize(w) for w in word_list])\n",
        "print(lemmatized_output)\n",
        "#> The striped bat are hanging on their foot for best"
      ],
      "execution_count": 2,
      "outputs": [
        {
          "output_type": "stream",
          "text": [
            "[nltk_data] Downloading package punkt to /root/nltk_data...\n",
            "[nltk_data]   Unzipping tokenizers/punkt.zip.\n",
            "[nltk_data] Downloading package averaged_perceptron_tagger to\n",
            "[nltk_data]     /root/nltk_data...\n",
            "[nltk_data]   Unzipping taggers/averaged_perceptron_tagger.zip.\n",
            "['The', 'striped', 'bats', 'are', 'hanging', 'on', 'their', 'feet', 'for', 'best']\n",
            "The striped bat are hanging on their foot for best\n"
          ],
          "name": "stdout"
        }
      ]
    },
    {
      "metadata": {
        "id": "jlamAfgEc-g9",
        "colab_type": "code",
        "colab": {}
      },
      "cell_type": "code",
      "source": [
        "# Lemmatization using (WordNet)\n"
      ],
      "execution_count": 0,
      "outputs": []
    },
    {
      "metadata": {
        "id": "xcU66FW3XIkn",
        "colab_type": "code",
        "outputId": "a9e8cdb0-bc41-4086-f962-0c6368b4beff",
        "colab": {
          "base_uri": "https://localhost:8080/",
          "height": 84
        }
      },
      "cell_type": "code",
      "source": [
        "text = \"He matured fast\"\n",
        "#data Processing\n",
        "\n",
        "#Step 1: Word tokenize\n",
        "import nltk\n",
        "nltk.download(\"punkt\")\n",
        "\n",
        "from nltk import word_tokenize\n",
        "tokens = word_tokenize(text)\n",
        "print(tokens)\n",
        "\n",
        "#Step 2: Stemming (Snowball)\n",
        "#/Lemmatization (Dictionary)\n",
        "\n",
        "from nltk.stem import WordNetLemmatizer\n",
        "wnl = WordNetLemmatizer()\n",
        "\n",
        "lemma_words = []\n",
        "\n",
        "for token in tokens:\n",
        "  lemma_word = wnl.lemmatize(token, \"v\")\n",
        "  lemma_words.append(lemma_word)\n",
        "print(\" \".join(lemma_words))"
      ],
      "execution_count": 0,
      "outputs": [
        {
          "output_type": "stream",
          "text": [
            "[nltk_data] Downloading package punkt to /root/nltk_data...\n",
            "[nltk_data]   Package punkt is already up-to-date!\n",
            "['He', 'matured', 'fast']\n",
            "He mature fast\n"
          ],
          "name": "stdout"
        }
      ]
    },
    {
      "metadata": {
        "id": "chUUdXGMZ8CO",
        "colab_type": "code",
        "outputId": "d38552fa-b9a4-456d-e49a-ab8a2d83a914",
        "colab": {
          "base_uri": "https://localhost:8080/",
          "height": 34
        }
      },
      "cell_type": "code",
      "source": [
        "term = \"left\"\n",
        "pos = \"v\"\n",
        "wnl.lemmatize(term,pos)"
      ],
      "execution_count": 0,
      "outputs": [
        {
          "output_type": "execute_result",
          "data": {
            "text/plain": [
              "'leave'"
            ]
          },
          "metadata": {
            "tags": []
          },
          "execution_count": 5
        }
      ]
    }
  ]
}