{
  "nbformat": 4,
  "nbformat_minor": 0,
  "metadata": {
    "colab": {
      "name": "Data Science Essentials Day 24: KMeans Clustering.ipynb",
      "version": "0.3.2",
      "provenance": [],
      "include_colab_link": true
    },
    "kernelspec": {
      "name": "python3",
      "display_name": "Python 3"
    }
  },
  "cells": [
    {
      "cell_type": "markdown",
      "metadata": {
        "id": "view-in-github",
        "colab_type": "text"
      },
      "source": [
        "<a href=\"https://colab.research.google.com/github/hackveda-canada/Data-Science-Essentials/blob/master/Data_Science_Essentials_Day_24_KMeans_Clustering.ipynb\" target=\"_parent\"><img src=\"https://colab.research.google.com/assets/colab-badge.svg\" alt=\"Open In Colab\"/></a>"
      ]
    },
    {
      "metadata": {
        "id": "2MgDfFefOv5F",
        "colab_type": "code",
        "colab": {
          "base_uri": "https://localhost:8080/",
          "height": 340
        },
        "outputId": "4e2122a0-e4bf-4bf4-a553-a482e400861c"
      },
      "cell_type": "code",
      "source": [
        "import pandas as pd\n",
        "import numpy as np\n",
        "import matplotlib.pyplot as plt\n",
        "%matplotlib inline\n",
        "\n",
        "df = pd.DataFrame({\n",
        "    'x':[12,20,28,18,29,33,24,45,45,52,51,52,55,53,55,61,64,69,72],\n",
        "    'y':[39,36,30,52,54,46,55,59,63,70,66,63,58,23,14,8,19,7,24]\n",
        "})\n",
        "\n",
        "# random.seed --> it will produce the same data\n",
        "np.random.seed(200)\n",
        "\n",
        "k = 3\n",
        "\n",
        "# centroids = [x,y]\n",
        "\n",
        "centroids = {i+1 :[np.random.randint(0,80), \n",
        "                  np.random.randint(0,80)]\n",
        "            for i in range(k)}\n",
        "print (centroids)\n",
        "\n",
        "# Plot a graph\n",
        "\n",
        "fig = plt.figure(figsize=(5,5))\n",
        "plt.scatter(df['x'] ,df['y'],color='k') # k --> Black\n",
        "colmap = {1:'r', 2:'g',3:'b'}\n",
        "for i in centroids.keys():\n",
        "    #print (i)\n",
        "    #print (*centroids[i])\n",
        "    plt.scatter(*centroids[i],color=colmap[i])\n",
        "    \n",
        "plt.show()"
      ],
      "execution_count": 12,
      "outputs": [
        {
          "output_type": "stream",
          "text": [
            "{1: [26, 16], 2: [68, 42], 3: [55, 76]}\n"
          ],
          "name": "stdout"
        },
        {
          "output_type": "display_data",
          "data": {
            "image/png": "[encoded data removed]",
            "text/plain": [
              "<Figure size 360x360 with 1 Axes>"
            ]
          },
          "metadata": {
            "tags": []
          }
        }
      ]
    },
    {
      "metadata": {
        "id": "_pjEfArtO425",
        "colab_type": "code",
        "colab": {
          "base_uri": "https://localhost:8080/",
          "height": 428
        },
        "outputId": "2aca2005-fe08-43c4-ef79-7faa71d1ada3"
      },
      "cell_type": "code",
      "source": [
        "def assignment(df , centroids):\n",
        "    for i in centroids.keys():\n",
        "        df['distance_from_{}'.format(i)] = (\n",
        "        np.sqrt((df['x'] - centroids[i][0])**2 + (df['y']-centroids[i][1]) ** 2))\n",
        "    centroid_distance_cols = ['distance_from_{}'.format(i) for i in centroids.keys()]\n",
        "    df['closest'] = df.loc[:,centroid_distance_cols].idxmin(axis=1)\n",
        "    df['closest'] = df['closest'].map(lambda x: int(x.lstrip('distance_from_')))\n",
        "    df['color'] = df['closest'].map(lambda x: colmap[x])\n",
        "    return df\n",
        "\n",
        "df = assignment(df,centroids)\n",
        "print (df.head())\n",
        "\n",
        "fig = plt.figure(figsize=(5,5))\n",
        "plt.scatter(df['x'] ,df['y'],color=df['color'],alpha=0.5,edgecolor='k')\n",
        "for i in centroids.keys():\n",
        "    plt.scatter(*centroids[i],color=colmap[i])\n",
        "plt.show()"
      ],
      "execution_count": 2,
      "outputs": [
        {
          "output_type": "stream",
          "text": [
            "    x   y  distance_from_1  distance_from_2  distance_from_3  closest color\n",
            "0  12  39        26.925824        56.080300        56.727418        1     r\n",
            "1  20  36        20.880613        48.373546        53.150729        1     r\n",
            "2  28  30        14.142136        41.761226        53.338541        1     r\n",
            "3  18  52        36.878178        50.990195        44.102154        1     r\n",
            "4  29  54        38.118237        40.804412        34.058773        3     b\n"
          ],
          "name": "stdout"
        },
        {
          "output_type": "display_data",
          "data": {
            "image/png": "[encoded data removed]",
            "text/plain": [
              "<Figure size 360x360 with 1 Axes>"
            ]
          },
          "metadata": {
            "tags": []
          }
        }
      ]
    },
    {
      "metadata": {
        "id": "ooAqduFePODD",
        "colab_type": "code",
        "colab": {
          "base_uri": "https://localhost:8080/",
          "height": 323
        },
        "outputId": "a2c8cb07-0270-4ae5-a9eb-134552579bca"
      },
      "cell_type": "code",
      "source": [
        "## Update\n",
        "\n",
        "import copy\n",
        "\n",
        "old_centroids = copy.deepcopy(centroids)\n",
        "#print (old_centroids)\n",
        "\n",
        "def update(k):\n",
        "    for i in centroids.keys():\n",
        "        centroids[i][0] = np.mean(df[df['closest'] == i]['x'])\n",
        "        centroids[i][1] = np.mean(df[df['closest'] == i]['y'])\n",
        "    return k\n",
        "\n",
        "centroids = update(centroids)\n",
        "\n",
        "fig = plt.figure(figsize=(5,5))\n",
        "ax = plt.axes()\n",
        "plt.scatter(df['x'] ,df['y'],color=df['color'],alpha=0.5,edgecolor='k')\n",
        "for i in centroids.keys():\n",
        "    plt.scatter(*centroids[i],color=colmap[i])\n",
        "plt.xlim(0,80)\n",
        "plt.ylim(0,80)\n",
        "plt.show()"
      ],
      "execution_count": 3,
      "outputs": [
        {
          "output_type": "display_data",
          "data": {
            "image/png": "[encoded data removed]",
            "text/plain": [
              "<Figure size 360x360 with 1 Axes>"
            ]
          },
          "metadata": {
            "tags": []
          }
        }
      ]
    },
    {
      "metadata": {
        "id": "vo_ZL5cEPbYf",
        "colab_type": "code",
        "colab": {
          "base_uri": "https://localhost:8080/",
          "height": 323
        },
        "outputId": "ff82cdd6-1e40-4dca-990a-c3eb2b4c9ae2"
      },
      "cell_type": "code",
      "source": [
        "df = assignment(df,centroids)\n",
        "\n",
        "fig = plt.figure(figsize=(5,5))\n",
        "plt.scatter(df['x'] ,df['y'],color=df['color'],alpha=0.5,edgecolor='k')\n",
        "for i in centroids.keys():\n",
        "    plt.scatter(*centroids[i],color=colmap[i])\n",
        "plt.xlim(0,80)\n",
        "plt.ylim(0,80)\n",
        "plt.show()"
      ],
      "execution_count": 4,
      "outputs": [
        {
          "output_type": "display_data",
          "data": {
            "image/png": "[encoded data removed]",
            "text/plain": [
              "<Figure size 360x360 with 1 Axes>"
            ]
          },
          "metadata": {
            "tags": []
          }
        }
      ]
    },
    {
      "metadata": {
        "id": "olTXk-SpP8Ox",
        "colab_type": "code",
        "colab": {
          "base_uri": "https://localhost:8080/",
          "height": 323
        },
        "outputId": "f38b0f58-1794-43a2-81cb-eaf918202aab"
      },
      "cell_type": "code",
      "source": [
        "# Continue all assigned categories don't change any more\n",
        "\n",
        "while True:\n",
        "    closest_centroids = df['closest'].copy(deep=True)\n",
        "    centroids = update(centroids)\n",
        "    df = assignment(df,centroids)\n",
        "    if closest_centroids.equals(df['closest']):\n",
        "        break\n",
        "\n",
        "fig = plt.figure(figsize=(5,5))\n",
        "plt.scatter(df['x'] ,df['y'],color=df['color'],alpha=0.5,edgecolor='k')\n",
        "for i in centroids.keys():\n",
        "    plt.scatter(*centroids[i],color=colmap[i])\n",
        "plt.xlim(0,80)\n",
        "plt.ylim(0,80)\n",
        "plt.show() "
      ],
      "execution_count": 5,
      "outputs": [
        {
          "output_type": "display_data",
          "data": {
            "image/png": "[encoded data removed]",
            "text/plain": [
              "<Figure size 360x360 with 1 Axes>"
            ]
          },
          "metadata": {
            "tags": []
          }
        }
      ]
    },
    {
      "metadata": {
        "id": "87VluiioQGe6",
        "colab_type": "code",
        "colab": {
          "base_uri": "https://localhost:8080/",
          "height": 70
        },
        "outputId": "f3bcc294-50d7-4f5b-b4db-11b4b22767e0"
      },
      "cell_type": "code",
      "source": [
        "df = pd.DataFrame({\n",
        "    'x':[12,20,28,18,29,33,24,45,45,52,51,52,55,53,55,61,64,69,72],\n",
        "    'y':[39,36,30,52,54,46,55,59,63,70,66,63,58,23,14,8,19,7,24]\n",
        "})\n",
        "\n",
        "from sklearn.cluster import KMeans\n",
        "\n",
        "kmeans = KMeans(n_clusters=3)\n",
        "kmeans.fit(df)"
      ],
      "execution_count": 6,
      "outputs": [
        {
          "output_type": "execute_result",
          "data": {
            "text/plain": [
              "KMeans(algorithm='auto', copy_x=True, init='k-means++', max_iter=300,\n",
              "    n_clusters=3, n_init=10, n_jobs=None, precompute_distances='auto',\n",
              "    random_state=None, tol=0.0001, verbose=0)"
            ]
          },
          "metadata": {
            "tags": []
          },
          "execution_count": 6
        }
      ]
    },
    {
      "metadata": {
        "id": "caTwgu8JQIRw",
        "colab_type": "code",
        "colab": {}
      },
      "cell_type": "code",
      "source": [
        "labels = kmeans.predict(df)\n",
        "centroids = kmeans.cluster_centers_"
      ],
      "execution_count": 0,
      "outputs": []
    },
    {
      "metadata": {
        "id": "lgrwlFG5QQnE",
        "colab_type": "code",
        "colab": {
          "base_uri": "https://localhost:8080/",
          "height": 320
        },
        "outputId": "0048c6ef-115e-403e-faad-a863bb0dc2fc"
      },
      "cell_type": "code",
      "source": [
        "fig = plt.figure(figsize=(5,5))\n",
        "\n",
        "colors = map(lambda x: colmap[x+1],labels)\n",
        "colors1 = list(colors)\n",
        "plt.scatter(df['x'],df['y'],color=colors1,alpha=0.5,edgecolor='k')\n",
        "for idx , centroids in enumerate(centroids):\n",
        "    plt.scatter(*centroids,color=colmap[idx+1])  \n",
        "plt.show()"
      ],
      "execution_count": 8,
      "outputs": [
        {
          "output_type": "display_data",
          "data": {
            "image/png": "[encoded data removed]",
            "text/plain": [
              "<Figure size 360x360 with 1 Axes>"
            ]
          },
          "metadata": {
            "tags": []
          }
        }
      ]
    },
    {
      "metadata": {
        "id": "cXUIa26tQgup",
        "colab_type": "code",
        "colab": {
          "base_uri": "https://localhost:8080/",
          "height": 392
        },
        "outputId": "5b5ea724-db63-4a38-a3bd-7f4fef75c9fb"
      },
      "cell_type": "code",
      "source": [
        "#User defined function for KMean algorithm\n",
        "\n",
        "def assignment(df,centroids):\n",
        "  #euclidean function\n",
        "  for i in centroids.keys():\n",
        "    #adding new column for distance from centroids\n",
        "    df['distance_from_{}'.format(i)] = (np.sqrt((df['x']-centroids[i][0]) **2 + (df['y']-centroids[i][1]) **2))\n",
        "  centroid_distance_cols = ['distance_from_{}'.format(i) for i in centroids.keys()]\n",
        "  #new column for minimum distance location\n",
        "  df['closest'] = df.loc[:,centroid_distance_cols].idxmin(axis=1)\n",
        "  df['closest'] = df['closest'].map(lambda x: int(x.lstrip('distance_from_')))\n",
        "  df['color'] = df['closest'].map(lambda x: colmap[x])\n",
        "  return df\n",
        "\n",
        "\n",
        "df = assignment(df,centroids)\n",
        "print (df.head)"
      ],
      "execution_count": 16,
      "outputs": [
        {
          "output_type": "stream",
          "text": [
            "<bound method NDFrame.head of      x   y  distance_from_1  distance_from_2  distance_from_3  closest color\n",
            "0   12  39        26.925824        56.080300        56.727418        1     r\n",
            "1   20  36        20.880613        48.373546        53.150729        1     r\n",
            "2   28  30        14.142136        41.761226        53.338541        1     r\n",
            "3   18  52        36.878178        50.990195        44.102154        1     r\n",
            "4   29  54        38.118237        40.804412        34.058773        3     b\n",
            "5   33  46        30.805844        35.227830        37.202150        1     r\n",
            "6   24  55        39.051248        45.880279        37.443290        3     b\n",
            "7   45  59        47.010637        28.600699        19.723083        3     b\n",
            "8   45  63        50.695167        31.144823        16.401219        3     b\n",
            "9   52  70        59.933296        32.249031         6.708204        3     b\n",
            "10  51  66        55.901699        29.410882        10.770330        3     b\n",
            "11  52  63        53.712196        26.400758        13.341664        3     b\n",
            "12  55  58        51.039201        20.615528        18.000000        3     b\n",
            "13  53  23        27.892651        24.207437        53.037722        2     g\n",
            "14  55  14        29.068884        30.870698        62.000000        1     r\n",
            "15  61   8        35.902646        34.713110        68.264193        2     g\n",
            "16  64  19        38.118237        23.345235        57.706152        2     g\n",
            "17  69   7        43.931765        35.014283        70.405966        2     g\n",
            "18  72  24        46.690470        18.439089        54.708317        2     g>\n"
          ],
          "name": "stdout"
        }
      ]
    }
  ]
}