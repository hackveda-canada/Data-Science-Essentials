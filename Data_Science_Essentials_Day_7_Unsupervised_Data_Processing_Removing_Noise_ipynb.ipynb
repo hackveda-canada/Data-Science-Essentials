{
  "nbformat": 4,
  "nbformat_minor": 0,
  "metadata": {
    "colab": {
      "name": "Data Science Essentials Day 7: Unsupervised Data Processing - Removing Noise.ipynb.ipynb",
      "version": "0.3.2",
      "provenance": [],
      "collapsed_sections": [],
      "include_colab_link": true
    },
    "kernelspec": {
      "name": "python3",
      "display_name": "Python 3"
    }
  },
  "cells": [
    {
      "cell_type": "markdown",
      "metadata": {
        "id": "view-in-github",
        "colab_type": "text"
      },
      "source": [
        "<a href=\"https://colab.research.google.com/github/hackveda-canada/Data-Science-Essentials/blob/master/Data_Science_Essentials_Day_7_Unsupervised_Data_Processing_Removing_Noise_ipynb.ipynb\" target=\"_parent\"><img src=\"https://colab.research.google.com/assets/colab-badge.svg\" alt=\"Open In Colab\"/></a>"
      ]
    },
    {
      "metadata": {
        "id": "nvhk7guhMrfm",
        "colab_type": "code",
        "colab": {}
      },
      "cell_type": "code",
      "source": [
        ""
      ],
      "execution_count": 0,
      "outputs": []
    },
    {
      "metadata": {
        "id": "QWyGNAqYMyBe",
        "colab_type": "text"
      },
      "cell_type": "markdown",
      "source": [
        "Data Preprocessing - part II\n",
        "\n",
        "3A: Convert to lowercase\n",
        "\n",
        "3B: Remove\n",
        "\n",
        "a) Numbers (if required) \n",
        "b) Punctuations/Special Characters \n",
        "c) English stop words \n",
        "d) Own stop words(if required) \n",
        "e) Strip whitespaces\n",
        "\n",
        "No covered Today\n",
        "\n",
        "f) Stemming/Lemmatization \n",
        "g) Sparse terms"
      ]
    },
    {
      "metadata": {
        "id": "Fhi1lU15M107",
        "colab_type": "code",
        "colab": {}
      },
      "cell_type": "code",
      "source": [
        "#Data Pre-processing -Remove Noise\n",
        "# a. Remove numbers from text\n",
        "# b. Remove punctuations\n",
        "# c. Remove stopwords\n",
        "# d. Remove Whitespaces"
      ],
      "execution_count": 0,
      "outputs": []
    },
    {
      "metadata": {
        "id": "G5aAuNnZNSuv",
        "colab_type": "code",
        "colab": {
          "base_uri": "https://localhost:8080/",
          "height": 54
        },
        "outputId": "5ee32bcc-3798-4789-c6ce-be7c6c94aab6"
      },
      "cell_type": "code",
      "source": [
        "#Noisy Text\n",
        "#Remove numbers from text\n",
        "#r is used to avoid multiple single quotes in string\n",
        "text = r'Knoblock, C., Lopresti, D., Roy, S., Subramaniam, L. V. (2007). \"Special Issue on Noisy Text Analytics\". International Journal on Document Analysis and Recognition. 10 (3–4): 127–128. doi:10.1007/s10032-007-0058-9'\n",
        "text\n",
        "\n",
        "\n",
        "# go to regextester.com\n",
        "#\\d represents numbers\n",
        "# add + to select complete number\n",
        "#\\d+\n",
        "\n",
        "#Create a function for removing numbers\n",
        "#def function_name(arguments):\n",
        "  #code of function //Remove number.whitespaces, stopwords,punctuations\n",
        "  #return result\n",
        "  \n",
        "#import regular expressions library in Python\n",
        "import re\n",
        "  \n",
        "\n",
        "def remove_numbers(text):\n",
        "  #remove number logic\n",
        "  result = re.sub(\"\\d+\", \"\",text)\n",
        "  return result\n",
        "\n",
        "\n",
        "#Use remove_numbers function\n",
        "\n",
        "noise_free_text = remove_numbers(text)\n",
        "print(noise_free_text)\n"
      ],
      "execution_count": 10,
      "outputs": [
        {
          "output_type": "stream",
          "text": [
            "Knoblock, C., Lopresti, D., Roy, S., Subramaniam, L. V. (). \"Special Issue on Noisy Text Analytics\". International Journal on Document Analysis and Recognition.  (–): –. doi:./s---\n"
          ],
          "name": "stdout"
        }
      ]
    },
    {
      "metadata": {
        "id": "d1YRpKalSiuJ",
        "colab_type": "code",
        "colab": {
          "base_uri": "https://localhost:8080/",
          "height": 125
        },
        "outputId": "db00a3c6-f7f8-44cf-aa49-e58bee4d69b8"
      },
      "cell_type": "code",
      "source": [
        "#Remove punctuations from text using NLTK\n",
        "# e.g. coca-cola, cocacola will be treated differently, if not removed punctuations\n",
        "#string punctuations : https://en.wikipedia.org/wiki/Punctuation\n",
        "\n",
        "#Explore \n",
        "import string\n",
        "print(string.punctuation)\n",
        "\n",
        "import nltk\n",
        "nltk.download(\"punkt\")\n",
        "\n",
        "from nltk.tokenize import word_tokenize\n",
        "#result = \"\"\n",
        "\n",
        "#Define a function to remove punctuation from corpus\n",
        "def remove_punctuation(text):\n",
        "  #punctuation removal logic\n",
        "  words = word_tokenize(text)\n",
        "  print(words)\n",
        "  non_pun_word = [word for word in words if word.lower() not in string.punctuation]\n",
        "  result = \" \"+ str(non_pun_word)\n",
        "  return result\n",
        "  \n",
        "    \n",
        "  #return print(words)\n",
        "\n",
        "  #return result\n",
        "  \n",
        "noise_free_text = remove_punctuation(noise_free_text)\n",
        "print(noise_free_text)"
      ],
      "execution_count": 21,
      "outputs": [
        {
          "output_type": "stream",
          "text": [
            "!\"#$%&'()*+,-./:;<=>?@[\\]^_`{|}~\n",
            "[nltk_data] Downloading package punkt to /root/nltk_data...\n",
            "[nltk_data]   Package punkt is already up-to-date!\n",
            "['Knoblock', ',', 'C.', ',', 'Lopresti', ',', 'D.', ',', 'Roy', ',', 'S.', ',', 'Subramaniam', ',', 'L.', 'V.', '(', ')', '.', '``', 'Special', 'Issue', 'on', 'Noisy', 'Text', 'Analytics', \"''\", '.', 'International', 'Journal', 'on', 'Document', 'Analysis', 'and', 'Recognition', '.', '(', '–', ')', ':', '–', '.', 'doi', ':', './s', '--', '-']\n",
            " ['Knoblock', 'C.', 'Lopresti', 'D.', 'Roy', 'S.', 'Subramaniam', 'L.', 'V.', '``', 'Special', 'Issue', 'on', 'Noisy', 'Text', 'Analytics', \"''\", 'International', 'Journal', 'on', 'Document', 'Analysis', 'and', 'Recognition', '–', '–', 'doi', './s', '--']\n"
          ],
          "name": "stdout"
        }
      ]
    }
  ]
}