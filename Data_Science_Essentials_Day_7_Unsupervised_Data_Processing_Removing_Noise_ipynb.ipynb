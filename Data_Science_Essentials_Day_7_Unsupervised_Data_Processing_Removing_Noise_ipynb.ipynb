{
  "nbformat": 4,
  "nbformat_minor": 0,
  "metadata": {
    "colab": {
      "name": "Data Science Essentials Day 7: Unsupervised Data Processing - Removing Noise.ipynb.ipynb",
      "version": "0.3.2",
      "provenance": [],
      "collapsed_sections": [],
      "include_colab_link": true
    },
    "kernelspec": {
      "name": "python3",
      "display_name": "Python 3"
    }
  },
  "cells": [
    {
      "cell_type": "markdown",
      "metadata": {
        "id": "view-in-github",
        "colab_type": "text"
      },
      "source": [
        "<a href=\"https://colab.research.google.com/github/hackveda-canada/Data-Science-Essentials/blob/master/Data_Science_Essentials_Day_7_Unsupervised_Data_Processing_Removing_Noise_ipynb.ipynb\" target=\"_parent\"><img src=\"https://colab.research.google.com/assets/colab-badge.svg\" alt=\"Open In Colab\"/></a>"
      ]
    },
    {
      "metadata": {
        "id": "nvhk7guhMrfm",
        "colab_type": "code",
        "colab": {}
      },
      "cell_type": "code",
      "source": [
        ""
      ],
      "execution_count": 0,
      "outputs": []
    },
    {
      "metadata": {
        "id": "QWyGNAqYMyBe",
        "colab_type": "text"
      },
      "cell_type": "markdown",
      "source": [
        "**Data Preprocessing - part II**\n",
        "-----------------------------------\n",
        "\n",
        "3A: Convert to lowercase\n",
        "\n",
        "3B: Remove\n",
        "\n",
        "a) Numbers (if required) \n",
        "\n",
        "b) Punctuations/Special Characters \n",
        "\n",
        "c) English stop words \n",
        "\n",
        "d) Own stop words(if required) \n",
        "\n",
        "e) Strip whitespaces\n",
        "\n",
        "Not covered Today\n",
        "---------------------\n",
        "\n",
        "f) Stemming/Lemmatization \n",
        "\n",
        "g) Sparse terms"
      ]
    },
    {
      "metadata": {
        "id": "Fhi1lU15M107",
        "colab_type": "code",
        "colab": {}
      },
      "cell_type": "code",
      "source": [
        "#Data Pre-processing -Remove Noise\n",
        "# a. Remove numbers from text\n",
        "# b. Remove punctuations\n",
        "# c. Remove stopwords\n",
        "# d. Remove Whitespaces"
      ],
      "execution_count": 0,
      "outputs": []
    },
    {
      "metadata": {
        "id": "G5aAuNnZNSuv",
        "colab_type": "code",
        "colab": {
          "base_uri": "https://localhost:8080/",
          "height": 34
        },
        "outputId": "d2399ef9-9160-434b-ba6c-3414cbbd1427"
      },
      "cell_type": "code",
      "source": [
        "#Noisy Text\n",
        "#Remove numbers from text\n",
        "#r is used to avoid multiple single quotes in string\n",
        "text = r'Knoblock, C., Lopresti, D., Roy, S., Subramaniam, L. V. (2007). \"Special Issue on Noisy Text Analytics\". International Journal on Document Analysis and Recognition. 10 (3–4): 127–128. doi:10.1007/s10032-007-0058-9'\n",
        "text\n",
        "\n",
        "\n",
        "# go to regextester.com\n",
        "#\\d represents numbers\n",
        "# add + to select complete number\n",
        "#\\d+\n",
        "\n",
        "#Create a function for removing numbers\n",
        "#def function_name(arguments):\n",
        "  #code of function //Remove number.whitespaces, stopwords,punctuations\n",
        "  #return result\n",
        "  \n",
        "#import regular expressions library in Python\n",
        "import re\n",
        "  \n",
        "\n",
        "def remove_numbers(text):\n",
        "  #remove number logic\n",
        "  result = re.sub(\"\\d+\", \"\",text)\n",
        "  return result\n",
        "\n",
        "\n",
        "#Use remove_numbers function\n",
        "\n",
        "noise_free_text = remove_numbers(text)\n",
        "print(noise_free_text)\n"
      ],
      "execution_count": 38,
      "outputs": [
        {
          "output_type": "stream",
          "text": [
            "Knoblock, C., Lopresti, D., Roy, S., Subramaniam, L. V. (). \"Special Issue on Noisy Text Analytics\". International Journal on Document Analysis and Recognition.  (–): –. doi:./s---\n"
          ],
          "name": "stdout"
        }
      ]
    },
    {
      "metadata": {
        "id": "d1YRpKalSiuJ",
        "colab_type": "code",
        "colab": {
          "base_uri": "https://localhost:8080/",
          "height": 125
        },
        "outputId": "282b9f0f-3bae-4afd-9def-7d6b1b2a9006"
      },
      "cell_type": "code",
      "source": [
        "#Remove punctuations from text using NLTK\n",
        "# e.g. coca-cola, cocacola will be treated differently, if not removed punctuations\n",
        "#string punctuations : https://en.wikipedia.org/wiki/Punctuation\n",
        "\n",
        "#Explore \n",
        "import string\n",
        "print(string.punctuation)\n",
        "\n",
        "import nltk\n",
        "nltk.download(\"punkt\")\n",
        "\n",
        "from nltk.tokenize import word_tokenize\n",
        "#result = \"\"\n",
        "\n",
        "#Define a function to remove punctuation from corpus\n",
        "def remove_punctuation(text):\n",
        "  #punctuation removal logic\n",
        "  words = word_tokenize(text)\n",
        "  print(words)\n",
        "  non_pun_word = [word for word in words if word.lower() not in string.punctuation]\n",
        "  #result = \" \"+ str(non_pun_word)\n",
        "  return \" \".join(non_pun_word)\n",
        "\n",
        "\n",
        "noise_free_text = remove_punctuation(noise_free_text)\n",
        "print(noise_free_text)\n",
        "  \n",
        "    \n",
        "  #return print(words)\n",
        "\n",
        "  #return result\n",
        "  \n",
        "#noise_free_text = remove_punctuation(noise_free_text)\n",
        "#print(noise_free_text)\n",
        "\n",
        "\n",
        "#temp_text = \" \"\n",
        "#for word in noise_free_text:\n",
        "#  temp_text = temp_text +word\n",
        "#print(temp_text)\n",
        "\n",
        "\n",
        "\n"
      ],
      "execution_count": 39,
      "outputs": [
        {
          "output_type": "stream",
          "text": [
            "!\"#$%&'()*+,-./:;<=>?@[\\]^_`{|}~\n",
            "[nltk_data] Downloading package punkt to /root/nltk_data...\n",
            "[nltk_data]   Package punkt is already up-to-date!\n",
            "['Knoblock', ',', 'C.', ',', 'Lopresti', ',', 'D.', ',', 'Roy', ',', 'S.', ',', 'Subramaniam', ',', 'L.', 'V.', '(', ')', '.', '``', 'Special', 'Issue', 'on', 'Noisy', 'Text', 'Analytics', \"''\", '.', 'International', 'Journal', 'on', 'Document', 'Analysis', 'and', 'Recognition', '.', '(', '–', ')', ':', '–', '.', 'doi', ':', './s', '--', '-']\n",
            "Knoblock C. Lopresti D. Roy S. Subramaniam L. V. `` Special Issue on Noisy Text Analytics '' International Journal on Document Analysis and Recognition – – doi ./s --\n"
          ],
          "name": "stdout"
        }
      ]
    },
    {
      "metadata": {
        "id": "zRsbSnjZeVK2",
        "colab_type": "code",
        "colab": {
          "base_uri": "https://localhost:8080/",
          "height": 72
        },
        "outputId": "cda25b3b-2f73-412e-f044-898ea0e87717"
      },
      "cell_type": "code",
      "source": [
        "remove_punctuation(noise_free_text)"
      ],
      "execution_count": 40,
      "outputs": [
        {
          "output_type": "stream",
          "text": [
            "['Knoblock', 'C.', 'Lopresti', 'D.', 'Roy', 'S.', 'Subramaniam', 'L.', 'V.', '``', 'Special', 'Issue', 'on', 'Noisy', 'Text', 'Analytics', \"''\", 'International', 'Journal', 'on', 'Document', 'Analysis', 'and', 'Recognition', '–', '–', 'doi', './s', '--']\n"
          ],
          "name": "stdout"
        },
        {
          "output_type": "execute_result",
          "data": {
            "text/plain": [
              "\"Knoblock C. Lopresti D. Roy S. Subramaniam L. V. `` Special Issue on Noisy Text Analytics '' International Journal on Document Analysis and Recognition – – doi ./s --\""
            ]
          },
          "metadata": {
            "tags": []
          },
          "execution_count": 40
        }
      ]
    },
    {
      "metadata": {
        "id": "-ZW7ZJmGelW3",
        "colab_type": "code",
        "colab": {
          "base_uri": "https://localhost:8080/",
          "height": 52
        },
        "outputId": "7d75460a-93bd-4c0c-db4d-67189a73fe5d"
      },
      "cell_type": "code",
      "source": [
        "#Remove stopwords\n",
        "nltk.download(\"stopwords\")\n",
        "\n",
        "from nltk.corpus import stopwords"
      ],
      "execution_count": 41,
      "outputs": [
        {
          "output_type": "stream",
          "text": [
            "[nltk_data] Downloading package stopwords to /root/nltk_data...\n",
            "[nltk_data]   Package stopwords is already up-to-date!\n"
          ],
          "name": "stdout"
        }
      ]
    },
    {
      "metadata": {
        "id": "t8nh7Me3e5sQ",
        "colab_type": "code",
        "colab": {
          "base_uri": "https://localhost:8080/",
          "height": 3198
        },
        "outputId": "a67015d0-3c68-45c6-bb79-dd1b4cf3385e"
      },
      "cell_type": "code",
      "source": [
        "#Stopwords in english language\n",
        "stopwords.words(\"english\")\n"
      ],
      "execution_count": 42,
      "outputs": [
        {
          "output_type": "execute_result",
          "data": {
            "text/plain": [
              "['i',\n",
              " 'me',\n",
              " 'my',\n",
              " 'myself',\n",
              " 'we',\n",
              " 'our',\n",
              " 'ours',\n",
              " 'ourselves',\n",
              " 'you',\n",
              " \"you're\",\n",
              " \"you've\",\n",
              " \"you'll\",\n",
              " \"you'd\",\n",
              " 'your',\n",
              " 'yours',\n",
              " 'yourself',\n",
              " 'yourselves',\n",
              " 'he',\n",
              " 'him',\n",
              " 'his',\n",
              " 'himself',\n",
              " 'she',\n",
              " \"she's\",\n",
              " 'her',\n",
              " 'hers',\n",
              " 'herself',\n",
              " 'it',\n",
              " \"it's\",\n",
              " 'its',\n",
              " 'itself',\n",
              " 'they',\n",
              " 'them',\n",
              " 'their',\n",
              " 'theirs',\n",
              " 'themselves',\n",
              " 'what',\n",
              " 'which',\n",
              " 'who',\n",
              " 'whom',\n",
              " 'this',\n",
              " 'that',\n",
              " \"that'll\",\n",
              " 'these',\n",
              " 'those',\n",
              " 'am',\n",
              " 'is',\n",
              " 'are',\n",
              " 'was',\n",
              " 'were',\n",
              " 'be',\n",
              " 'been',\n",
              " 'being',\n",
              " 'have',\n",
              " 'has',\n",
              " 'had',\n",
              " 'having',\n",
              " 'do',\n",
              " 'does',\n",
              " 'did',\n",
              " 'doing',\n",
              " 'a',\n",
              " 'an',\n",
              " 'the',\n",
              " 'and',\n",
              " 'but',\n",
              " 'if',\n",
              " 'or',\n",
              " 'because',\n",
              " 'as',\n",
              " 'until',\n",
              " 'while',\n",
              " 'of',\n",
              " 'at',\n",
              " 'by',\n",
              " 'for',\n",
              " 'with',\n",
              " 'about',\n",
              " 'against',\n",
              " 'between',\n",
              " 'into',\n",
              " 'through',\n",
              " 'during',\n",
              " 'before',\n",
              " 'after',\n",
              " 'above',\n",
              " 'below',\n",
              " 'to',\n",
              " 'from',\n",
              " 'up',\n",
              " 'down',\n",
              " 'in',\n",
              " 'out',\n",
              " 'on',\n",
              " 'off',\n",
              " 'over',\n",
              " 'under',\n",
              " 'again',\n",
              " 'further',\n",
              " 'then',\n",
              " 'once',\n",
              " 'here',\n",
              " 'there',\n",
              " 'when',\n",
              " 'where',\n",
              " 'why',\n",
              " 'how',\n",
              " 'all',\n",
              " 'any',\n",
              " 'both',\n",
              " 'each',\n",
              " 'few',\n",
              " 'more',\n",
              " 'most',\n",
              " 'other',\n",
              " 'some',\n",
              " 'such',\n",
              " 'no',\n",
              " 'nor',\n",
              " 'not',\n",
              " 'only',\n",
              " 'own',\n",
              " 'same',\n",
              " 'so',\n",
              " 'than',\n",
              " 'too',\n",
              " 'very',\n",
              " 's',\n",
              " 't',\n",
              " 'can',\n",
              " 'will',\n",
              " 'just',\n",
              " 'don',\n",
              " \"don't\",\n",
              " 'should',\n",
              " \"should've\",\n",
              " 'now',\n",
              " 'd',\n",
              " 'll',\n",
              " 'm',\n",
              " 'o',\n",
              " 're',\n",
              " 've',\n",
              " 'y',\n",
              " 'ain',\n",
              " 'aren',\n",
              " \"aren't\",\n",
              " 'couldn',\n",
              " \"couldn't\",\n",
              " 'didn',\n",
              " \"didn't\",\n",
              " 'doesn',\n",
              " \"doesn't\",\n",
              " 'hadn',\n",
              " \"hadn't\",\n",
              " 'hasn',\n",
              " \"hasn't\",\n",
              " 'haven',\n",
              " \"haven't\",\n",
              " 'isn',\n",
              " \"isn't\",\n",
              " 'ma',\n",
              " 'mightn',\n",
              " \"mightn't\",\n",
              " 'mustn',\n",
              " \"mustn't\",\n",
              " 'needn',\n",
              " \"needn't\",\n",
              " 'shan',\n",
              " \"shan't\",\n",
              " 'shouldn',\n",
              " \"shouldn't\",\n",
              " 'wasn',\n",
              " \"wasn't\",\n",
              " 'weren',\n",
              " \"weren't\",\n",
              " 'won',\n",
              " \"won't\",\n",
              " 'wouldn',\n",
              " \"wouldn't\"]"
            ]
          },
          "metadata": {
            "tags": []
          },
          "execution_count": 42
        }
      ]
    },
    {
      "metadata": {
        "id": "paZuIWLXf2lE",
        "colab_type": "code",
        "colab": {}
      },
      "cell_type": "code",
      "source": [
        "# Remove stopwords from noise_free_text\n",
        "def remove_stopwords(text):\n",
        "  words = word_tokenize(text)\n",
        "  lang_stopwords = stopwords.words(\"english\")\n",
        "  non_stopwords = [word for word in words if word.lower() not in lang_stopwords]\n",
        "  return \" \".join(non_stopwords)\n",
        "\n",
        "noise_free_text = remove_stopwords(noise_free_text)"
      ],
      "execution_count": 0,
      "outputs": []
    },
    {
      "metadata": {
        "id": "t9xQqSRGhauP",
        "colab_type": "code",
        "colab": {
          "base_uri": "https://localhost:8080/",
          "height": 54
        },
        "outputId": "906c16c9-ac4e-457a-8146-7eee4c294ee6"
      },
      "cell_type": "code",
      "source": [
        "#Remove whitespaces from text\n",
        "def remove_whitespace(text):\n",
        "  return \" \".join(text.split())\n",
        "\n",
        "remove_whitespace(noise_free_text)"
      ],
      "execution_count": 47,
      "outputs": [
        {
          "output_type": "execute_result",
          "data": {
            "text/plain": [
              "\"Knoblock C. Lopresti D. Roy S. Subramaniam L. V. `` Special Issue Noisy Text Analytics '' International Journal Document Analysis Recognition – – doi ./s --\""
            ]
          },
          "metadata": {
            "tags": []
          },
          "execution_count": 47
        }
      ]
    },
    {
      "metadata": {
        "id": "4iBJ6IwKiw6R",
        "colab_type": "code",
        "colab": {}
      },
      "cell_type": "code",
      "source": [
        ""
      ],
      "execution_count": 0,
      "outputs": []
    }
  ]
}